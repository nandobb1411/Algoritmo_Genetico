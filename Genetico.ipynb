{
  "nbformat": 4,
  "nbformat_minor": 0,
  "metadata": {
    "colab": {
      "provenance": [],
      "collapsed_sections": []
    },
    "kernelspec": {
      "name": "python3",
      "display_name": "Python 3"
    },
    "language_info": {
      "name": "python"
    }
  },
  "cells": [
    {
      "cell_type": "markdown",
      "source": [
        "\n",
        "\n",
        "Importação das parada\n",
        "\n"
      ],
      "metadata": {
        "id": "nUXnkM2Mo-M_"
      }
    },
    {
      "cell_type": "code",
      "execution_count": null,
      "metadata": {
        "id": "aHJPV94kowUZ"
      },
      "outputs": [],
      "source": [
        "from random import randint,choice\n",
        "import random\n",
        "import matplotlib.pyplot as plt\n",
        "import numpy as np\n",
        "import math\n",
        "import time\n",
        "import json"
      ]
    },
    {
      "cell_type": "markdown",
      "source": [
        "Seleção natural background, macaco seria a população, genoma Força, Inteligencia e Ego, os genomas são gerados aleatoriamente de 1 a 100"
      ],
      "metadata": {
        "id": "2HW_w2P5pDF4"
      }
    },
    {
      "cell_type": "code",
      "source": [
        "macacos = {\"Fernando\":[random.randint(1,100),random.randint(1,100),random.randint(1,100)],\n",
        "           \"Rafael\":[random.randint(1,100),random.randint(1,100),random.randint(1,100)],\n",
        "           \"Diogo\":[random.randint(1,100),random.randint(1,100),random.randint(1,100)],\n",
        "           \"Bruno\":[random.randint(1,100),random.randint(1,100),random.randint(1,100)],\n",
        "           \"Davi\":[random.randint(1,100),random.randint(1,100),random.randint(1,100)],\n",
        "           \"Djalma\":[random.randint(1,100),random.randint(1,100),random.randint(1,100)],\n",
        "           \"Henry\":[random.randint(1,100),random.randint(1,100),random.randint(1,100)],\n",
        "           \"João\":[random.randint(1,100),random.randint(1,100),random.randint(1,100)],\n",
        "           \"Tolenta\":[random.randint(1,100),random.randint(1,100),random.randint(1,100)],\n",
        "           \"Quinhos\":[random.randint(1,100),random.randint(1,100),random.randint(1,100)],\n",
        "           \"Ronny\":[random.randint(1,100),random.randint(1,100),random.randint(1,100)],\n",
        "           \"Ryan\":[random.randint(1,100),random.randint(1,100),random.randint(1,100)],\n",
        "           \"Vini\":[random.randint(1,100),random.randint(1,100),random.randint(1,100)]}\n",
        "\n",
        "macacos"
      ],
      "metadata": {
        "id": "tAy7rDGdo8cA",
        "colab": {
          "base_uri": "https://localhost:8080/"
        },
        "outputId": "032d0021-6d83-4bc6-f160-42709840c353"
      },
      "execution_count": null,
      "outputs": [
        {
          "output_type": "execute_result",
          "data": {
            "text/plain": [
              "{'Fernando': [42, 96, 17],\n",
              " 'Rafael': [89, 59, 22],\n",
              " 'Diogo': [86, 100, 31],\n",
              " 'Bruno': [17, 18, 47],\n",
              " 'Davi': [41, 11, 1],\n",
              " 'Djalma': [13, 32, 78],\n",
              " 'Henry': [37, 86, 2],\n",
              " 'João': [60, 15, 80],\n",
              " 'Tolenta': [96, 31, 21],\n",
              " 'Quinhos': [6, 66, 36],\n",
              " 'Ronny': [72, 32, 52],\n",
              " 'Ryan': [76, 56, 2],\n",
              " 'Vini': [35, 44, 13]}"
            ]
          },
          "metadata": {},
          "execution_count": 2
        }
      ]
    },
    {
      "cell_type": "markdown",
      "source": [
        "Avaliar todos os macacos"
      ],
      "metadata": {
        "id": "DRZB_xCcQtfp"
      }
    },
    {
      "cell_type": "markdown",
      "source": [
        "Todos os genes"
      ],
      "metadata": {
        "id": "9Ou9LyuehQEd"
      }
    },
    {
      "cell_type": "code",
      "source": [
        "for a,b in macacos.items():\n",
        "    print(f'Macaco {a}: força: {b[0]} inteligencia: {b[1]} ego: {b[2]}')"
      ],
      "metadata": {
        "colab": {
          "base_uri": "https://localhost:8080/"
        },
        "id": "r0cVJFhChRhL",
        "outputId": "591e0c03-4780-4b57-a0e8-3b0c79df9c54"
      },
      "execution_count": null,
      "outputs": [
        {
          "output_type": "stream",
          "name": "stdout",
          "text": [
            "Macaco Fernando: força: 34 inteligencia: 61 ego: 56\n",
            "Macaco Rafael: força: 14 inteligencia: 69 ego: 74\n",
            "Macaco Diogo: força: 56 inteligencia: 93 ego: 71\n",
            "Macaco Bruno: força: 44 inteligencia: 57 ego: 23\n",
            "Macaco Davi: força: 48 inteligencia: 68 ego: 70\n",
            "Macaco Djalma: força: 33 inteligencia: 40 ego: 29\n",
            "Macaco Henry: força: 76 inteligencia: 30 ego: 38\n",
            "Macaco João: força: 46 inteligencia: 18 ego: 48\n",
            "Macaco Tolenta: força: 35 inteligencia: 9 ego: 22\n",
            "Macaco Quinhos: força: 69 inteligencia: 87 ego: 39\n",
            "Macaco Ronny: força: 1 inteligencia: 77 ego: 16\n",
            "Macaco Ryan: força: 68 inteligencia: 21 ego: 56\n",
            "Macaco Vini: força: 86 inteligencia: 82 ego: 65\n"
          ]
        }
      ]
    },
    {
      "cell_type": "code",
      "source": [
        "for a,b in macacos.items():\n",
        "    print(f'media do macaco {a}: {(b[0] + b[1])/2 / b[2]} ')"
      ],
      "metadata": {
        "colab": {
          "base_uri": "https://localhost:8080/"
        },
        "id": "HvOCQaOWQyDr",
        "outputId": "bd2f0b00-ee5b-402a-f6fe-772e8be76422"
      },
      "execution_count": null,
      "outputs": [
        {
          "output_type": "stream",
          "name": "stdout",
          "text": [
            "media do macaco Fernando: 0.8482142857142857 \n",
            "media do macaco Rafael: 0.5608108108108109 \n",
            "media do macaco Diogo: 1.0492957746478873 \n",
            "media do macaco Bruno: 2.1956521739130435 \n",
            "media do macaco Davi: 0.8285714285714286 \n",
            "media do macaco Djalma: 1.2586206896551724 \n",
            "media do macaco Henry: 1.394736842105263 \n",
            "media do macaco João: 0.6666666666666666 \n",
            "media do macaco Tolenta: 1.0 \n",
            "media do macaco Quinhos: 2.0 \n",
            "media do macaco Ronny: 2.4375 \n",
            "media do macaco Ryan: 0.7946428571428571 \n",
            "media do macaco Vini: 1.2923076923076924 \n"
          ]
        }
      ]
    },
    {
      "cell_type": "markdown",
      "source": [
        "Função de avaliação"
      ],
      "metadata": {
        "id": "hDhiDHE5H6fk"
      }
    },
    {
      "cell_type": "code",
      "source": [
        "listaMelhoresDecrescente = sorted(medias.values(), key=float, reverse= True)\n",
        "listaMelhoresDecrescente\n",
        "\n",
        "\n",
        "  "
      ],
      "metadata": {
        "id": "O74oN3lQo8ho",
        "colab": {
          "base_uri": "https://localhost:8080/"
        },
        "outputId": "dfbca945-03d8-4551-bead-d19de9da4577"
      },
      "execution_count": null,
      "outputs": [
        {
          "output_type": "execute_result",
          "data": {
            "text/plain": [
              "[2.4375,\n",
              " 2.1956521739130435,\n",
              " 2.0,\n",
              " 1.394736842105263,\n",
              " 1.2923076923076924,\n",
              " 1.2586206896551724,\n",
              " 1.0492957746478873,\n",
              " 1.0,\n",
              " 0.8482142857142857,\n",
              " 0.8285714285714286,\n",
              " 0.7946428571428571,\n",
              " 0.6666666666666666,\n",
              " 0.5608108108108109]"
            ]
          },
          "metadata": {},
          "execution_count": 12
        }
      ]
    },
    {
      "cell_type": "markdown",
      "source": [
        "Função Fitness(seleção), pegar alguns macacos para fazer a proxima geração, os macacos com a maior mediana tem a maior chance de serem escolhidos, porem os macacos com menor mediana tambêm tem a chance de serem escolhidos. então a função rankeia a media de todos os macacos. os top 2 macacos da geração anterior tem vaga garantida na seleção pelo elitismo(2)"
      ],
      "metadata": {
        "id": "V7VEdjOUICrT"
      }
    },
    {
      "cell_type": "code",
      "source": [
        "from random import choices\n",
        "medias= {}\n",
        "mediasLista = []\n",
        "nomesListas = []\n",
        "amostragemInicial = 6\n",
        "\n",
        "def avaliação():\n",
        "    for a,b in macacos.items():\n",
        "        media = ((b[0]+b[1])/2)/b[2]\n",
        "        medias[a] = media\n",
        "        mediasLista.append(media)\n",
        "        nomesListas.append(a)\n",
        "k = 6 # quantidade de macacos a ser escolhidos\n",
        "\n",
        "def remove_repetidos(lista):\n",
        "    l = []\n",
        "    for i in lista:\n",
        "        if i not in l:\n",
        "            l.append(i)\n",
        "    l.sort()\n",
        "    if len(l) == amostragemInicial:\n",
        "        return True\n",
        "    else:\n",
        "        return False\n",
        "    \n",
        "\n",
        "def seleção():\n",
        "    listaMelhoresDecrescente = sorted(medias.values(), key=float, reverse= True)\n",
        "\n",
        "    samples = choices(nomesListas, mediasLista, k=(amostragemInicial-2)) # Sorteia K macacos, tendo como peso (mediaLista)- \n",
        "                                                                     # a media obtida pela avaliação()\n",
        "    for macaco in medias: \n",
        "        if medias[macaco] == listaMelhoresDecrescente[0]:\n",
        "            samples.append(macaco)\n",
        "        elif medias[macaco] == listaMelhoresDecrescente[1]:\n",
        "            samples.append(macaco)\n",
        "\n",
        "    while remove_repetidos(samples) == False: # Caso o mesmo macaco seja sorteado duas vezes iremos -\n",
        "                                              # repetir o sorteio ate que nao haja repetidos\n",
        "        samples = choices(nomesListas, mediasLista, k=(amostragemInicial-2)) # Sorteia K macacos, tendo como peso (mediaLista)- \n",
        "                                                                     # a media obtida pela avaliação()\n",
        "        for macaco in medias: \n",
        "            if medias[macaco] == listaMelhoresDecrescente[0]:\n",
        "\n",
        "                samples.append(macaco)\n",
        "            elif medias[macaco] == listaMelhoresDecrescente[1]:\n",
        "                samples.append(macaco)\n",
        "\n",
        "    while len(samples) > 6:\n",
        "        samples.pop(0)\n",
        "\n",
        "    return samples     \n",
        "avaliação()\n",
        "print(seleção())"
      ],
      "metadata": {
        "colab": {
          "base_uri": "https://localhost:8080/"
        },
        "id": "uGmCQsRHV1J5",
        "outputId": "3608a3f7-ef8c-41ea-ff6e-398597d12366"
      },
      "execution_count": null,
      "outputs": [
        {
          "output_type": "stream",
          "name": "stdout",
          "text": [
            "['Quinhos', 'Ryan', 'Vini', 'Diogo', 'Bruno', 'Ronny']\n"
          ]
        }
      ]
    },
    {
      "cell_type": "markdown",
      "source": [
        "Cross-Over, agora pegaremos a lista de selecionados, para cada par de selecionados faremos uma junção de 1 dos genomas,\n",
        " ex: djalma{13, 57, 11} e ronny{21, 73, 46}.\n",
        " sabemos que os dois primeiros valores quanto maiores melhores, ja o terceiro valor quanto menor melhor, djalma e ronny terão um filho, esse filho teria os seguintes genes {21,73,11}, como se o filho de ronny e djalma pegasse as melhores caracteristicas dos pais."
      ],
      "metadata": {
        "id": "X0ggTolDbXkm"
      }
    },
    {
      "cell_type": "code",
      "source": [
        "def cruzamento(genetica1, genetica2):\n",
        "    geneticaNova = []\n",
        "    # ----------    Força    -----------\n",
        "    if genetica1[0] >= genetica2[0]:\n",
        "        geneticaNova.append(genetica1[0])\n",
        "    else:\n",
        "        geneticaNova.append(genetica2[0])\n",
        "    # ---------- Inteligencia ----------\n",
        "    if genetica1[1] >= genetica2[1]:\n",
        "        geneticaNova.append(genetica1[1])\n",
        "    else:\n",
        "        geneticaNova.append(genetica2[1])\n",
        "    # ----------     ego      ----------\n",
        "    if genetica1[2] <= genetica2[2]:\n",
        "        geneticaNova.append(genetica1[2])\n",
        "    else:\n",
        "        geneticaNova.append(genetica2[2])\n",
        "    geneticaNova.clear\n",
        "    return geneticaNova\n",
        "\n",
        "cruzamento(macacos[\"Djalma\"],macacos[\"Ronny\"])"
      ],
      "metadata": {
        "colab": {
          "base_uri": "https://localhost:8080/"
        },
        "id": "EfUyLR1udx_E",
        "outputId": "de73f1b6-18a3-4151-c429-8f33f057d948"
      },
      "execution_count": null,
      "outputs": [
        {
          "output_type": "execute_result",
          "data": {
            "text/plain": [
              "[33, 77, 16]"
            ]
          },
          "metadata": {},
          "execution_count": 13
        }
      ]
    },
    {
      "cell_type": "markdown",
      "source": [
        "Mutação, todo macaco passara por uma leve chance de ocorrer mutação, quando alguma geração e criada antes de começar o cross-over todos os macacos podem sofrer mutação, a força pode aumentar, a intelligencia pode aumentar e o ego pode abaixar."
      ],
      "metadata": {
        "id": "c6D5aoAjvaNg"
      }
    },
    {
      "cell_type": "code",
      "source": [
        "def mutacao(resultado):\n",
        "    if randint(0,4) == 0 : # Sofre mutação, altere aqui para alterar a taxa de mutação\n",
        "        atributo = randint(0,2) # atributo a ser mudado (0- força | 1 - inteligencia | 2 - ego)\n",
        "        if atributo == 0:\n",
        "            mutagene = randint(1,100) # gera a mutação aleatoria\n",
        "            if mutagene >= resultado[0]: # se a mutação for melhor que a pre existente\n",
        "                resultado[0] = mutagene\n",
        "            # else:\n",
        "            #     print(\"mutação inferior\")\n",
        "        elif atributo == 1:\n",
        "                mutagene = randint(1,100) # gera a mutação aleatoria\n",
        "                if mutagene >= resultado[1]: # se a mutação for melhor que a pre existente\n",
        "                    resultado[1] = mutagene\n",
        "                # else:\n",
        "                #     print(\"mutação inferior\")\n",
        "        elif atributo == 2:\n",
        "                mutagene = randint(1,100) # gera a mutação aleatoria\n",
        "                if mutagene <= resultado[2]: # se a mutação for melhor que a pre existente\n",
        "                    resultado[2] = mutagene\n",
        "                # else:\n",
        "                #     print(\"mutação inferior\")\n",
        "    # else:\n",
        "    #     print(\"não houve mutação\")\n",
        "    return resultado\n",
        "\n",
        "\n",
        "mutacao(macacos[\"Quinhos\"])\n",
        "\n",
        "\n",
        "\n",
        "\n",
        "\n",
        "       "
      ],
      "metadata": {
        "colab": {
          "base_uri": "https://localhost:8080/"
        },
        "id": "PVilnqQ-hEcI",
        "outputId": "fda95940-494e-45a3-fe57-b2e2952b9af9"
      },
      "execution_count": null,
      "outputs": [
        {
          "output_type": "execute_result",
          "data": {
            "text/plain": [
              "[69, 87, 39]"
            ]
          },
          "metadata": {},
          "execution_count": 21
        }
      ]
    },
    {
      "cell_type": "markdown",
      "source": [
        "Enfim, podemos criar uma nova geração, com cross-overs e mutações"
      ],
      "metadata": {
        "id": "9in10sGKvvKZ"
      }
    },
    {
      "cell_type": "code",
      "source": [
        "\n",
        "\n",
        "def criarGeraçãoNova():\n",
        "    selecaoNatural = seleção()\n",
        "    macacosNovo = {} #cria dicionario que ira receber a prole dos cruzamentos\n",
        "    for cruzadores in selecaoNatural :\n",
        "        i=0 \n",
        "        while(i < amostragemInicial):\n",
        "            #if macacos[cruzadores] != macacos[selecaoNatural[i]]: #um macaco nao reproduz com si mesmo\n",
        "            resultado = cruzamento(macacos[cruzadores], macacos[selecaoNatural[i]])\n",
        "            nomeNovoMacaco = str(macacos[cruzadores]) + str(macacos[selecaoNatural[i]])\n",
        "            #nomeNovoMacaco = str(cruzadores) + str(selecaoNatural[i]) # o nome do filho vai ser os status dos pais (ajuda na visualização)\n",
        "            resultado = mutacao(resultado)\n",
        "            macacosNovo[nomeNovoMacaco] = resultado\n",
        "            i+=1\n",
        "    return  macacosNovo\n",
        "criarGeraçãoNova()  "
      ],
      "metadata": {
        "id": "IM8dlDs2vzJk",
        "colab": {
          "base_uri": "https://localhost:8080/"
        },
        "outputId": "a7705274-e8e8-4085-a9d2-3c1713b8f8b6"
      },
      "execution_count": null,
      "outputs": [
        {
          "output_type": "execute_result",
          "data": {
            "text/plain": [
              "{'[68, 21, 56][68, 21, 56]': [68, 21, 56],\n",
              " '[68, 21, 56][48, 68, 70]': [68, 68, 56],\n",
              " '[68, 21, 56][46, 18, 48]': [68, 21, 48],\n",
              " '[68, 21, 56][76, 30, 38]': [76, 30, 38],\n",
              " '[68, 21, 56][44, 57, 23]': [68, 57, 23],\n",
              " '[68, 21, 56][1, 77, 16]': [68, 77, 16],\n",
              " '[48, 68, 70][68, 21, 56]': [68, 68, 56],\n",
              " '[48, 68, 70][48, 68, 70]': [48, 68, 70],\n",
              " '[48, 68, 70][46, 18, 48]': [48, 68, 48],\n",
              " '[48, 68, 70][76, 30, 38]': [76, 68, 38],\n",
              " '[48, 68, 70][44, 57, 23]': [48, 68, 23],\n",
              " '[48, 68, 70][1, 77, 16]': [48, 77, 16],\n",
              " '[46, 18, 48][68, 21, 56]': [68, 21, 48],\n",
              " '[46, 18, 48][48, 68, 70]': [48, 68, 48],\n",
              " '[46, 18, 48][46, 18, 48]': [46, 18, 48],\n",
              " '[46, 18, 48][76, 30, 38]': [76, 30, 38],\n",
              " '[46, 18, 48][44, 57, 23]': [46, 57, 23],\n",
              " '[46, 18, 48][1, 77, 16]': [46, 77, 16],\n",
              " '[76, 30, 38][68, 21, 56]': [76, 30, 38],\n",
              " '[76, 30, 38][48, 68, 70]': [76, 68, 38],\n",
              " '[76, 30, 38][46, 18, 48]': [76, 30, 38],\n",
              " '[76, 30, 38][76, 30, 38]': [76, 30, 38],\n",
              " '[76, 30, 38][44, 57, 23]': [76, 57, 23],\n",
              " '[76, 30, 38][1, 77, 16]': [76, 77, 16],\n",
              " '[44, 57, 23][68, 21, 56]': [68, 57, 23],\n",
              " '[44, 57, 23][48, 68, 70]': [48, 68, 23],\n",
              " '[44, 57, 23][46, 18, 48]': [99, 57, 23],\n",
              " '[44, 57, 23][76, 30, 38]': [76, 57, 23],\n",
              " '[44, 57, 23][44, 57, 23]': [44, 57, 23],\n",
              " '[44, 57, 23][1, 77, 16]': [44, 77, 16],\n",
              " '[1, 77, 16][68, 21, 56]': [68, 77, 16],\n",
              " '[1, 77, 16][48, 68, 70]': [48, 77, 16],\n",
              " '[1, 77, 16][46, 18, 48]': [46, 77, 16],\n",
              " '[1, 77, 16][76, 30, 38]': [76, 77, 16],\n",
              " '[1, 77, 16][44, 57, 23]': [44, 77, 16],\n",
              " '[1, 77, 16][1, 77, 16]': [1, 77, 16]}"
            ]
          },
          "metadata": {},
          "execution_count": 23
        }
      ]
    },
    {
      "cell_type": "markdown",
      "source": [
        "Com todas essas funções, podemos fazer nosso algoritmo genetico funcionar"
      ],
      "metadata": {
        "id": "WA5n3ceiv3NA"
      }
    },
    {
      "cell_type": "code",
      "source": [
        "def avaliação():\n",
        "    for a,b in macacos.items():\n",
        "        media = ((b[0]+b[1])/2)/b[2]\n",
        "        medias[a] = media\n",
        "        mediasLista.append(media)\n",
        "        nomesListas.append(a)\n",
        "\n",
        "def remove_repetidos(lista):\n",
        "    l = []\n",
        "    for i in lista:\n",
        "        if i not in l:\n",
        "            l.append(i)\n",
        "    l.sort()\n",
        "    if len(l) == amostragemInicial:\n",
        "        return True\n",
        "    else:\n",
        "        return False\n",
        "    \n",
        "def seleção():\n",
        "    listaMelhoresDecrescente = sorted(medias.values(), key=float, reverse= True)\n",
        "\n",
        "    samples = choices(nomesListas, mediasLista, k=(amostragemInicial-2)) # Sorteia K macacos, tendo como peso (mediaLista)- \n",
        "                                                                     # a media obtida pela avaliação()\n",
        "    for macaco in medias: \n",
        "        if medias[macaco] == listaMelhoresDecrescente[0]:\n",
        "            samples.append(macaco)\n",
        "        elif medias[macaco] == listaMelhoresDecrescente[1]:\n",
        "            samples.append(macaco)\n",
        "    \n",
        "    while remove_repetidos(samples) == False: # Caso o mesmo macaco seja sorteado duas vezes iremos -\n",
        "                                              # repetir o sorteio ate que nao haja repetidos\n",
        "        samples = choices(nomesListas, mediasLista, k=(amostragemInicial-2)) # Sorteia K macacos, tendo como peso (mediaLista)- \n",
        "                                                                     # a media obtida pela avaliação()\n",
        "        for macaco in medias: \n",
        "            if medias[macaco] == listaMelhoresDecrescente[0]:\n",
        "\n",
        "                samples.append(macaco)\n",
        "            elif medias[macaco] == listaMelhoresDecrescente[1]:\n",
        "                samples.append(macaco)\n",
        "\n",
        "    while len(samples) > 6:\n",
        "        samples.pop(0)\n",
        "    # print(samples)\n",
        "    return samples\n",
        "\n",
        "def cruzamento(genetica1, genetica2):\n",
        "    geneticaNova = []\n",
        "    # ----------    Força    -----------\n",
        "    if genetica1[0] >= genetica2[0]:\n",
        "        geneticaNova.append(genetica1[0])\n",
        "    else:\n",
        "        geneticaNova.append(genetica2[0])\n",
        "    # ---------- Inteligencia ----------\n",
        "    if genetica1[1] >= genetica2[1]:\n",
        "        geneticaNova.append(genetica1[1])\n",
        "    else:\n",
        "        geneticaNova.append(genetica2[1])\n",
        "    # ----------     ego      ----------\n",
        "    if genetica1[2] <= genetica2[2]:\n",
        "        geneticaNova.append(genetica1[2])\n",
        "    else:\n",
        "        geneticaNova.append(genetica2[2])\n",
        "    geneticaNova.clear\n",
        "    return geneticaNova\n",
        "\n",
        "def mutacao(resultado):\n",
        "    if randint(0,4) == 0 : # Sofre mutação, altere aqui para alterar a taxa de mutação\n",
        "        atributo = randint(0,2) # atributo a ser mudado (0- força | 1 - inteligencia | 2 - ego)\n",
        "        if atributo == 0:\n",
        "            mutagene = randint(1,100) # gera a mutação aleatoria\n",
        "            if mutagene >= resultado[0]: # se a mutação for melhor que a pre existente\n",
        "                resultado[0] = mutagene\n",
        "            # else:\n",
        "            #     print(\"mutação inferior\")\n",
        "        elif atributo == 1:\n",
        "                mutagene = randint(1,100) # gera a mutação aleatoria\n",
        "                if mutagene >= resultado[1]: # se a mutação for melhor que a pre existente\n",
        "                    resultado[1] = mutagene\n",
        "                # else:\n",
        "                #     print(\"mutação inferior\")\n",
        "        elif atributo == 2:\n",
        "                mutagene = randint(1,100) # gera a mutação aleatoria\n",
        "                if mutagene <= resultado[2]: # se a mutação for melhor que a pre existente\n",
        "                    resultado[2] = mutagene\n",
        "                # else:\n",
        "                #     print(\"mutação inferior\")\n",
        "    # else:\n",
        "    #     print(\"não houve mutação\")\n",
        "    return resultado\n",
        "\n",
        "def criarGeraçãoNova():\n",
        "    selecaoNatural = seleção()\n",
        "    macacosNovo = {} #cria dicionario que ira receber a prole dos cruzamentos\n",
        "    for cruzadores in selecaoNatural :\n",
        "        i=0 \n",
        "        while(i < amostragemInicial):\n",
        "            #if macacos[cruzadores] != macacos[selecaoNatural[i]]: #um macaco nao reproduz com si mesmo\n",
        "            resultado = cruzamento(macacos[cruzadores], macacos[selecaoNatural[i]])\n",
        "            nomeNovoMacaco = str(macacos[cruzadores]) + str(macacos[selecaoNatural[i]])\n",
        "            #nomeNovoMacaco = str(cruzadores) + str(selecaoNatural[i]) # o nome do filho vai ser os status dos pais (ajuda na visualização)\n",
        "            resultado = mutacao(resultado)\n",
        "            macacosNovo[nomeNovoMacaco] = resultado\n",
        "            i+=1\n",
        "    return  macacosNovo\n",
        "\n",
        "if __name__ == \"__main__\":\n",
        "    from random import randint\n",
        "\n",
        "    macacos = {\"Fernando\":[randint(1,100),randint(1,100),randint(1,100)],\n",
        "                \"Rafael\":[randint(1,100),randint(1,100),randint(1,100)],\n",
        "                \"Diogo\":[randint(1,100),randint(1,100),randint(1,100)],\n",
        "                \"Bruno\":[randint(1,100),randint(1,100),randint(1,100)],\n",
        "                \"Davi\":[randint(1,100),randint(1,100),randint(1,100)],\n",
        "                \"Djalma\":[randint(1,100),randint(1,100),randint(1,100)],\n",
        "                \"Henry\":[randint(1,100),randint(1,100),randint(1,100)],\n",
        "                \"João\":[randint(1,100),randint(1,100),randint(1,100)],\n",
        "                \"Tolenta\":[randint(1,100),randint(1,100),randint(1,100)],\n",
        "                \"Quinhos\":[randint(1,100),randint(1,100),randint(1,100)],\n",
        "                \"Ronny\":[randint(1,100),randint(1,100),randint(1,100)],\n",
        "                \"Ryan\":[randint(1,100),randint(1,100),randint(1,100)],\n",
        "                \"Vini\":[randint(1,100),randint(1,100),randint(1,100)]}\n",
        "\n",
        "    j = 0\n",
        "    x = 3 # o X vai definir a quandidade de vezes que os cruzamentos irão se repetir (a partir de 4 ele ja começa a demorar a pensar)\n",
        "    while(j < x):\n",
        "        medias= {}\n",
        "        mediasLista = []\n",
        "        nomesListas = []\n",
        "        avaliação() # preenche o dicionario medias{} contendo o nome e a media dos genes dos macacos \n",
        "                    # preenche as listas mediasLista[] e nomesListas[] com a media e com  os nomes respectivamentes\n",
        "        from random import choices\n",
        "        amostragemInicial = 6 # quantidade de macacos que irão gerar a proxima geração\n",
        "\n",
        "        macacos = criarGeraçãoNova() # reseta o dicionario macacos{} apenas com os novos\n",
        "        j +=1\n",
        "    \n",
        "    for a,b in macacos.items():\n",
        "      print(f'Macaco {a}: força: {b[0]} inteligencia: {b[1]} ego {b[2]}')\n",
        "    #print(\"---------------- medias ----------------\")\n",
        "    #for media in sorted(mediasLista, key=int, reverse=True):\n",
        "    #    print(media)\n",
        "    #for i in sorted(mediasLista, key=int, reverse=True):\n",
        "    #    print(i)\n",
        "    #    for macaco in macacos:\n",
        "    #        print(medias[str(macaco)])\n",
        "    #        if medias[macaco] == i:\n",
        "    #           print(\"chegou\")"
      ],
      "metadata": {
        "colab": {
          "base_uri": "https://localhost:8080/"
        },
        "id": "6_yswgcdv8HB",
        "outputId": "2969716c-0c5f-4152-d8ab-6a19a24962c6"
      },
      "execution_count": null,
      "outputs": [
        {
          "output_type": "stream",
          "name": "stdout",
          "text": [
            "Macaco [44, 100, 12][44, 100, 12]: força: 44 inteligencia: 100 ego 12\n",
            "Macaco [44, 100, 12][99, 95, 21]: força: 99 inteligencia: 100 ego 12\n",
            "Macaco [44, 100, 12][57, 86, 12]: força: 57 inteligencia: 100 ego 12\n",
            "Macaco [44, 100, 12][99, 95, 12]: força: 99 inteligencia: 100 ego 12\n",
            "Macaco [44, 100, 12][99, 100, 12]: força: 99 inteligencia: 100 ego 12\n",
            "Macaco [99, 95, 21][44, 100, 12]: força: 99 inteligencia: 100 ego 12\n",
            "Macaco [99, 95, 21][99, 95, 21]: força: 99 inteligencia: 95 ego 21\n",
            "Macaco [99, 95, 21][57, 86, 12]: força: 99 inteligencia: 95 ego 12\n",
            "Macaco [99, 95, 21][99, 95, 12]: força: 99 inteligencia: 95 ego 12\n",
            "Macaco [99, 95, 21][99, 100, 12]: força: 99 inteligencia: 100 ego 12\n",
            "Macaco [57, 86, 12][44, 100, 12]: força: 57 inteligencia: 100 ego 12\n",
            "Macaco [57, 86, 12][99, 95, 21]: força: 99 inteligencia: 95 ego 12\n",
            "Macaco [57, 86, 12][57, 86, 12]: força: 57 inteligencia: 86 ego 12\n",
            "Macaco [57, 86, 12][99, 95, 12]: força: 99 inteligencia: 95 ego 12\n",
            "Macaco [57, 86, 12][99, 100, 12]: força: 99 inteligencia: 100 ego 12\n",
            "Macaco [99, 95, 12][44, 100, 12]: força: 99 inteligencia: 100 ego 12\n",
            "Macaco [99, 95, 12][99, 95, 21]: força: 99 inteligencia: 95 ego 12\n",
            "Macaco [99, 95, 12][57, 86, 12]: força: 99 inteligencia: 95 ego 12\n",
            "Macaco [99, 95, 12][99, 95, 12]: força: 99 inteligencia: 95 ego 12\n",
            "Macaco [99, 95, 12][99, 100, 12]: força: 99 inteligencia: 100 ego 12\n",
            "Macaco [99, 100, 12][44, 100, 12]: força: 99 inteligencia: 100 ego 12\n",
            "Macaco [99, 100, 12][99, 95, 21]: força: 99 inteligencia: 100 ego 12\n",
            "Macaco [99, 100, 12][57, 86, 12]: força: 99 inteligencia: 100 ego 12\n",
            "Macaco [99, 100, 12][99, 95, 12]: força: 99 inteligencia: 100 ego 12\n",
            "Macaco [99, 100, 12][99, 100, 12]: força: 99 inteligencia: 100 ego 12\n"
          ]
        }
      ]
    }
  ]
}